{
 "cells": [
  {
   "cell_type": "code",
   "execution_count": null,
   "metadata": {},
   "outputs": [],
   "source": [
    "import tabula\n",
    "import pandas as pd\n",
    "import re\n",
    "import numpy as np\n",
    "import math"
   ]
  },
  {
   "cell_type": "code",
   "execution_count": null,
   "metadata": {
    "scrolled": true
   },
   "outputs": [],
   "source": [
    "file_path = \"Downloads/woo-unused-voucher-codes-2021-01-11.pdf\"\n",
    "page_num = 234\n",
    "#page_num = 6"
   ]
  },
  {
   "cell_type": "code",
   "execution_count": null,
   "metadata": {},
   "outputs": [],
   "source": [
    "cols = [ 'Voucher Code', 'Product Information', 'Buyers Information', 'Order Title', 'Order Information', 'Recipient Information']\n",
    "\n",
    "df = pd.DataFrame([])\n",
    "df_combine = pd.DataFrame([])\n",
    "for pageiter in range(page_num):\n",
    "#for pageiter in [0,1,232,233]:\n",
    "    print(pageiter)\n",
    "    df = tabula.read_pdf( file_path, pages = pageiter+1, guess=False)\n",
    "    #If you want to change the table by editing the columns you can do that here.\n",
    "    if pageiter+1 == 1:\n",
    "        df = df[0]\n",
    "        df.columns = df.iloc[0]\n",
    "        df = df[1:].reset_index()\n",
    "        #df_combine = pd.concat([ df_combine, df]) \n",
    "        df = df.drop('index', axis = 1)\n",
    "        df.insert(3, 'Order Title', np.nan)\n",
    "        df.columns = cols\n",
    "        df_combine = pd.concat([ df_combine, df]) \n",
    "    elif pageiter +1 == page_num:\n",
    "        df = df[0]\n",
    "        #df = df.drop('Unnamed: 0', axis = 1)\n",
    "        df.columns = cols\n",
    "        df_combine = pd.concat([ df_combine, df]) \n",
    "    else:\n",
    "        #print(df[0]))\n",
    "        df[0].columns = cols\n",
    "        df_combine = pd.concat([ df_combine, df[0]]) #again you can choose between merge or concat as per your need\n",
    "    #if pageiter > 3:\n",
    "        #break"
   ]
  },
  {
   "cell_type": "code",
   "execution_count": null,
   "metadata": {},
   "outputs": [],
   "source": [
    "df_combine"
   ]
  },
  {
   "cell_type": "code",
   "execution_count": null,
   "metadata": {},
   "outputs": [],
   "source": [
    "df_combine = df_combine.reset_index().drop('index', axis = 1)\n",
    "df_combine"
   ]
  },
  {
   "cell_type": "code",
   "execution_count": null,
   "metadata": {},
   "outputs": [],
   "source": [
    "for index, row in df_combine.iterrows():\n",
    "    #print(row['Voucher Code'])\n",
    "    if type(row['Voucher Code']) == str:\n",
    "        print(index)\n",
    "        current = row['Voucher Code']\n",
    "        #df_combine['Voucher Code'][index] = current\n",
    "    else:\n",
    "        df_combine.at[index, 'Voucher Code'] = current"
   ]
  },
  {
   "cell_type": "code",
   "execution_count": null,
   "metadata": {},
   "outputs": [],
   "source": [
    "prices2020 = df_combine[df_combine['Order Information'].str.contains('2020', na = False)]['Product Information']\n",
    "#prices2020['Year'] = 2020\n",
    "prices2019 = df_combine[df_combine['Order Information'].str.contains('2019', na = False)]['Product Information']\n",
    "#prices2019['Year'] = 2019\n",
    "\n",
    "prices = pd.concat([prices2020, prices2019])\n",
    "#prices = prices2020\n",
    "prices"
   ]
  },
  {
   "cell_type": "code",
   "execution_count": null,
   "metadata": {},
   "outputs": [],
   "source": [
    "df_prices = pd.DataFrame()\n",
    "\n",
    "for index, price in prices.iteritems():\n",
    "    for count in range(0,15):\n",
    "        index = index + count\n",
    "        print(index)\n",
    "        price = df_combine.iloc[index]['Product Information']        \n",
    "        if isinstance(price, str):\n",
    "            if 'Price:' in price:\n",
    "                break\n",
    "\n",
    "    price = float(price.split(\" \")[-1].replace('.','').replace(',','.'))\n",
    "\n",
    "    code = df_combine['Voucher Code'].iloc[index]\n",
    "    \n",
    "    sku = code.split(\"-\")[0]\n",
    "    \n",
    "    df_new = pd.DataFrame([[code, sku, price]])\n",
    "    df_prices = pd.concat([df_prices, df_new])\n",
    "\n",
    "df_prices = df_prices.reset_index().drop('index', axis = 1)\n",
    "df_prices.columns = ['Kode', 'Sku', 'Pris']\n",
    "df_prices"
   ]
  },
  {
   "cell_type": "code",
   "execution_count": null,
   "metadata": {
    "scrolled": true
   },
   "outputs": [],
   "source": [
    "df_oppsummering = df_prices.groupby('Sku').sum().reset_index()\n",
    "df_oppsummering.columns = ['Sku', 'Sum']\n",
    "df_oppsummering\n",
    "df_oppsummering = df_oppsummering.merge(df_prices.drop('Kode', axis = 1).drop_duplicates('Sku'), how = 'inner', on = 'Sku')\n",
    "df_oppsummering.to_csv('unused_vouchers_2020-2019.csv', sep=\";\")"
   ]
  },
  {
   "cell_type": "code",
   "execution_count": null,
   "metadata": {},
   "outputs": [],
   "source": [
    "df_oppsummering"
   ]
  },
  {
   "cell_type": "code",
   "execution_count": null,
   "metadata": {},
   "outputs": [],
   "source": [
    "df_oppsummering.iloc[:-1]['Sum'].sum()"
   ]
  }
 ],
 "metadata": {
  "kernelspec": {
   "display_name": "Python 3",
   "language": "python",
   "name": "python3"
  },
  "language_info": {
   "codemirror_mode": {
    "name": "ipython",
    "version": 3
   },
   "file_extension": ".py",
   "mimetype": "text/x-python",
   "name": "python",
   "nbconvert_exporter": "python",
   "pygments_lexer": "ipython3",
   "version": "3.8.3"
  }
 },
 "nbformat": 4,
 "nbformat_minor": 4
}
