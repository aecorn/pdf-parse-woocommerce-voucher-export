{
 "cells": [
  {
   "cell_type": "code",
   "execution_count": null,
   "metadata": {},
   "outputs": [],
   "source": [
    "import tabula\n",
    "import pandas as pd\n",
    "import re\n",
    "import numpy as np\n",
    "import math"
   ]
  },
  {
   "cell_type": "code",
   "execution_count": null,
   "metadata": {
    "scrolled": true
   },
   "outputs": [],
   "source": [
    "file_path = \"Downloads/woo-purchased-voucher-codes-2021-01-11 (2).pdf\"\n",
    "page_num = 228"
   ]
  },
  {
   "cell_type": "code",
   "execution_count": null,
   "metadata": {},
   "outputs": [],
   "source": [
    "cols = [ 'Voucher Code', 'Product Information', 'Buyers Information', 'Order Title', 'Order Information', 'Recipient Information']\n",
    "\n",
    "df = pd.DataFrame([])\n",
    "df_combine = pd.DataFrame([])\n",
    "for pageiter in range(page_num):\n",
    "    print(pageiter)\n",
    "    df = tabula.read_pdf( file_path, pages = pageiter+1, guess=False)\n",
    "    #If you want to change the table by editing the columns you can do that here.\n",
    "    if pageiter+1 == 1:\n",
    "        df = df[0]\n",
    "        df.columns = df.iloc[0]\n",
    "        df = df[1:].reset_index()\n",
    "        #df_combine = pd.concat([ df_combine, df]) \n",
    "        df = df.drop('index', axis = 1)\n",
    "        df.insert(3, 'Order Title', np.nan)\n",
    "        df.columns = cols\n",
    "        df_combine = pd.concat([ df_combine, df]) \n",
    "    elif pageiter +1 == page_num:\n",
    "        df = df[0]\n",
    "        df = df.drop('Unnamed: 0', axis = 1)\n",
    "        df.columns = cols\n",
    "        df_combine = pd.concat([ df_combine, df]) \n",
    "    else:\n",
    "        #print(df[0]))\n",
    "        df[0].columns = cols\n",
    "        df_combine = pd.concat([ df_combine, df[0]]) #again you can choose between merge or concat as per your need\n",
    "    #if pageiter > 3:\n",
    "        #break"
   ]
  },
  {
   "cell_type": "code",
   "execution_count": null,
   "metadata": {
    "scrolled": true
   },
   "outputs": [],
   "source": [
    "df_combine"
   ]
  },
  {
   "cell_type": "code",
   "execution_count": null,
   "metadata": {},
   "outputs": [],
   "source": [
    "df_combine"
   ]
  },
  {
   "cell_type": "code",
   "execution_count": null,
   "metadata": {},
   "outputs": [],
   "source": [
    "df_combine = df_combine.reset_index().drop('index', axis = 1)\n",
    "df_combine"
   ]
  },
  {
   "cell_type": "code",
   "execution_count": null,
   "metadata": {
    "scrolled": true
   },
   "outputs": [],
   "source": [
    "type(df_combine['Voucher Code'][0])"
   ]
  },
  {
   "cell_type": "code",
   "execution_count": null,
   "metadata": {},
   "outputs": [],
   "source": [
    "for index, row in df_combine.iterrows():\n",
    "    #print(row['Voucher Code'])\n",
    "    if type(row['Voucher Code']) == str:\n",
    "        print(index)\n",
    "        current = row['Voucher Code']\n",
    "        #df_combine['Voucher Code'][index] = current\n",
    "    else:\n",
    "        df_combine.at[index, 'Voucher Code'] = current"
   ]
  },
  {
   "cell_type": "code",
   "execution_count": null,
   "metadata": {},
   "outputs": [],
   "source": [
    "df_combine"
   ]
  },
  {
   "cell_type": "code",
   "execution_count": null,
   "metadata": {},
   "outputs": [],
   "source": [
    "df_prices = df_combine[df_combine['Product Information'].str.contains(\"Price: \", na = False)]\n",
    "prices = df_prices['Product Information'].str.split(\" \").str[-1]\n",
    "prices = prices.str.replace(\".\" , \"\").str.replace(\",\" , \".\").astype(float)\n",
    "df_prices_out =  pd.concat([df_prices['Voucher Code'], prices], axis=1)\n",
    "df_prices_out.to_csv('purchased_non-used_vouchers_2019-2021_olakademiet.csv', sep=\";\")"
   ]
  },
  {
   "cell_type": "code",
   "execution_count": null,
   "metadata": {},
   "outputs": [],
   "source": [
    "prices.sum()"
   ]
  }
 ],
 "metadata": {
  "kernelspec": {
   "display_name": "Python 3",
   "language": "python",
   "name": "python3"
  },
  "language_info": {
   "codemirror_mode": {
    "name": "ipython",
    "version": 3
   },
   "file_extension": ".py",
   "mimetype": "text/x-python",
   "name": "python",
   "nbconvert_exporter": "python",
   "pygments_lexer": "ipython3",
   "version": "3.8.3"
  }
 },
 "nbformat": 4,
 "nbformat_minor": 4
}
