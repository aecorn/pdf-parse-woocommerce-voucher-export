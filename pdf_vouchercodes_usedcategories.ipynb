{
 "cells": [
  {
   "cell_type": "code",
   "execution_count": null,
   "metadata": {},
   "outputs": [],
   "source": [
    "import tabula\n",
    "import pandas as pd\n",
    "import re\n",
    "import numpy as np\n",
    "import math"
   ]
  },
  {
   "cell_type": "code",
   "execution_count": null,
   "metadata": {
    "scrolled": true
   },
   "outputs": [],
   "source": [
    "file_path = \"Downloads/woo-used-voucher-codes-2021-01-11 (1).pdf\"\n",
    "page_num = 264"
   ]
  },
  {
   "cell_type": "code",
   "execution_count": null,
   "metadata": {},
   "outputs": [],
   "source": [
    "\n",
    "df = pd.DataFrame([])\n",
    "df_combine = pd.DataFrame([])\n",
    "for pageiter in range(page_num):\n",
    "#for pageiter in [0,1,262,263]:\n",
    "    print(pageiter)\n",
    "    df = tabula.read_pdf( file_path, pages = pageiter+1, guess=False)[0]\n",
    "    df_combine = pd.concat([ df_combine, df]) #again you can choose between merge or concat as per your need\n",
    "    #if pageiter > 3:\n",
    "    #    break"
   ]
  },
  {
   "cell_type": "code",
   "execution_count": null,
   "metadata": {},
   "outputs": [],
   "source": [
    "df_combine = df_combine.reset_index().drop('index', axis = 1)\n",
    "df_combine"
   ]
  },
  {
   "cell_type": "code",
   "execution_count": null,
   "metadata": {},
   "outputs": [],
   "source": [
    "for index, row in df_combine.iterrows():\n",
    "    #print(row['Voucher Code'])\n",
    "    if type(row['Voucher Code']) == str:\n",
    "        print(index)\n",
    "        current = row['Voucher Code']\n",
    "        #df_combine['Voucher Code'][index] = current\n",
    "    else:\n",
    "        df_combine.at[index, 'Voucher Code'] = current"
   ]
  },
  {
   "cell_type": "code",
   "execution_count": null,
   "metadata": {},
   "outputs": [],
   "source": [
    "df_output = pd.DataFrame()\n",
    "\n",
    "codes = pd.unique(df_combine['Voucher Code'])\n",
    "for code in codes:\n",
    "    df_tmp = df_combine[df_combine['Voucher Code'] == code]\n",
    "    \n",
    "    # Get SKU\n",
    "    df_sku = df_tmp['Product Information'] \n",
    "    df_sku = df_sku.str.replace('\\r', ' ').str.split('SKU:').str[1]\n",
    "    sku = df_sku.iloc[0]\n",
    "    # check if nan\n",
    "    if sku != sku:\n",
    "        #print(sku)\n",
    "        df_sku = df_tmp[df_tmp['Product Information'].str.contains('SKU:', na = False)]\n",
    "        try:\n",
    "            sku = df_sku.iloc[0]['Product Information'].replace('SKU: ', '')\n",
    "        except:\n",
    "            sku = 'error'\n",
    "    print(sku)\n",
    "    \n",
    "    name = ''\n",
    "    # Finn navn\n",
    "    df_name = df_tmp['Product Information'] \n",
    "    df_name = df_name.str.replace('\\r', ' ')\n",
    "    for val in df_name:\n",
    "        #print(val)\n",
    "        if 'Name:' in val and 'Price:' in val:\n",
    "            #print('first page shit')\n",
    "            name = val.split('Name: ')[1].split(' Price:')[0]\n",
    "        else:\n",
    "            if 'Price:' in val:\n",
    "                break\n",
    "            else:\n",
    "                name += val.replace('Name: ', '')\n",
    "            #print('not first page shit')\n",
    "    \n",
    "    #name = name.replace('(Trondheim)(Trondheim)' , '(Trondheim)')\n",
    "    \n",
    "    # Parse pris\n",
    "    pris = df_tmp[df_tmp['Product Information'].str.contains(\"Price:\", na = False)]\n",
    "    pris = pris['Product Information'].str.split(\"Price:\").str[-1]\n",
    "    pris = pris.str.split(\"\\r\").str[0]\n",
    "    try:\n",
    "        pris = pris.iloc[0]\n",
    "        pris = float(pris.split(\"kr \")[1].replace('.','').replace(',','.'))\n",
    "    except:\n",
    "        pris = 'error'\n",
    "    \n",
    "    df_new = pd.DataFrame([[code, sku, name, pris]])\n",
    "    df_output = pd.concat([df_output, df_new])"
   ]
  },
  {
   "cell_type": "code",
   "execution_count": null,
   "metadata": {},
   "outputs": [],
   "source": [
    "df_output.columns = ['Kode', 'Sku', 'Kursnavn', 'Pris']\n",
    "df_output = df_output.reset_index().drop('index', axis = 1)\n"
   ]
  },
  {
   "cell_type": "code",
   "execution_count": null,
   "metadata": {},
   "outputs": [],
   "source": [
    "df_output"
   ]
  },
  {
   "cell_type": "code",
   "execution_count": null,
   "metadata": {
    "scrolled": true
   },
   "outputs": [],
   "source": [
    "df_oppsummering = df_output.groupby('Sku').sum().drop(['Kode', 'Kursnavn'], axis = 1).reset_index()\n",
    "df_oppsummering.columns = ['Sku', 'Sum']\n",
    "df_oppsummering\n",
    "df_oppsummering = df_oppsummering.merge(df_output.drop('Kode', axis = 1).drop_duplicates('Sku'), how = 'inner', on = 'Sku')\n",
    "df_oppsummering.to_csv('redeemed_used_vouchers_2020.csv', sep=\";\")"
   ]
  },
  {
   "cell_type": "code",
   "execution_count": null,
   "metadata": {},
   "outputs": [],
   "source": [
    "df_oppsummering"
   ]
  },
  {
   "cell_type": "code",
   "execution_count": null,
   "metadata": {},
   "outputs": [],
   "source": [
    "df_oppsummering.iloc[:-1]['Sum'].sum()"
   ]
  },
  {
   "cell_type": "code",
   "execution_count": null,
   "metadata": {},
   "outputs": [],
   "source": []
  }
 ],
 "metadata": {
  "kernelspec": {
   "display_name": "Python 3",
   "language": "python",
   "name": "python3"
  },
  "language_info": {
   "codemirror_mode": {
    "name": "ipython",
    "version": 3
   },
   "file_extension": ".py",
   "mimetype": "text/x-python",
   "name": "python",
   "nbconvert_exporter": "python",
   "pygments_lexer": "ipython3",
   "version": "3.8.3"
  }
 },
 "nbformat": 4,
 "nbformat_minor": 4
}
